{
 "cells": [
  {
   "cell_type": "code",
   "execution_count": 1,
   "metadata": {},
   "outputs": [],
   "source": [
    "from utils import read_csv, list_files\n",
    "import pandas as pandas"
   ]
  },
  {
   "cell_type": "code",
   "execution_count": 2,
   "metadata": {},
   "outputs": [
    {
     "name": "stdout",
     "output_type": "stream",
     "text": [
      "\n"
     ]
    }
   ],
   "source": [
    "!echo $GOOGLE_APPLICATION_CREDENTIALS"
   ]
  },
  {
   "cell_type": "code",
   "execution_count": 3,
   "metadata": {},
   "outputs": [],
   "source": [
    "import os\n",
    "os.environ[\"GOOGLE_APPLICATION_CREDENTIALS\"] = '../secrets/client_secrets.json'"
   ]
  },
  {
   "cell_type": "code",
   "execution_count": 4,
   "metadata": {},
   "outputs": [],
   "source": [
    "from storage import GStorage\n",
    "bucket = GStorage('car_comparator')"
   ]
  },
  {
   "cell_type": "code",
   "execution_count": 5,
   "metadata": {},
   "outputs": [
    {
     "name": "stdout",
     "output_type": "stream",
     "text": [
      "../secrets/client_secrets.json\n"
     ]
    }
   ],
   "source": [
    "!echo $GOOGLE_APPLICATION_CREDENTIALS"
   ]
  },
  {
   "cell_type": "code",
   "execution_count": 6,
   "metadata": {},
   "outputs": [
    {
     "data": {
      "text/html": [
       "<div>\n",
       "<style scoped>\n",
       "    .dataframe tbody tr th:only-of-type {\n",
       "        vertical-align: middle;\n",
       "    }\n",
       "\n",
       "    .dataframe tbody tr th {\n",
       "        vertical-align: top;\n",
       "    }\n",
       "\n",
       "    .dataframe thead th {\n",
       "        text-align: right;\n",
       "    }\n",
       "</style>\n",
       "<table border=\"1\" class=\"dataframe\">\n",
       "  <thead>\n",
       "    <tr style=\"text-align: right;\">\n",
       "      <th></th>\n",
       "      <th>car_make</th>\n",
       "      <th>id1</th>\n",
       "      <th>car_model</th>\n",
       "      <th>id2</th>\n",
       "      <th>link</th>\n",
       "      <th>Name</th>\n",
       "      <th>year_min</th>\n",
       "      <th>price_max</th>\n",
       "      <th>year_max</th>\n",
       "      <th>price_min</th>\n",
       "      <th>km_max</th>\n",
       "    </tr>\n",
       "  </thead>\n",
       "  <tbody>\n",
       "    <tr>\n",
       "      <th>0</th>\n",
       "      <td>Audi</td>\n",
       "      <td>a3</td>\n",
       "      <td>A3</td>\n",
       "      <td>audi</td>\n",
       "      <td>https://www.flexicar.es/audi/a3/segunda-mano/</td>\n",
       "      <td>Audi A3</td>\n",
       "      <td>2014</td>\n",
       "      <td>30000</td>\n",
       "      <td>2022</td>\n",
       "      <td>10000</td>\n",
       "      <td>125000</td>\n",
       "    </tr>\n",
       "    <tr>\n",
       "      <th>1</th>\n",
       "      <td>Audi</td>\n",
       "      <td>a4</td>\n",
       "      <td>A4</td>\n",
       "      <td>audi</td>\n",
       "      <td>https://www.flexicar.es/audi/a4/segunda-mano/</td>\n",
       "      <td>Audi A4</td>\n",
       "      <td>2014</td>\n",
       "      <td>30000</td>\n",
       "      <td>2022</td>\n",
       "      <td>10000</td>\n",
       "      <td>125000</td>\n",
       "    </tr>\n",
       "    <tr>\n",
       "      <th>2</th>\n",
       "      <td>BMW</td>\n",
       "      <td>x1</td>\n",
       "      <td>X1</td>\n",
       "      <td>bmw</td>\n",
       "      <td>https://www.flexicar.es/bmw/x1/segunda-mano/</td>\n",
       "      <td>BMW X1</td>\n",
       "      <td>2014</td>\n",
       "      <td>30000</td>\n",
       "      <td>2022</td>\n",
       "      <td>10000</td>\n",
       "      <td>125000</td>\n",
       "    </tr>\n",
       "    <tr>\n",
       "      <th>3</th>\n",
       "      <td>Renault</td>\n",
       "      <td>talisman</td>\n",
       "      <td>Talisman</td>\n",
       "      <td>renault</td>\n",
       "      <td>https://www.flexicar.es/renault/talisman/segun...</td>\n",
       "      <td>Renault Talisman</td>\n",
       "      <td>2014</td>\n",
       "      <td>30000</td>\n",
       "      <td>2022</td>\n",
       "      <td>10000</td>\n",
       "      <td>125000</td>\n",
       "    </tr>\n",
       "    <tr>\n",
       "      <th>4</th>\n",
       "      <td>Volkswagen</td>\n",
       "      <td>golf</td>\n",
       "      <td>Golf</td>\n",
       "      <td>volkswagen</td>\n",
       "      <td>https://www.flexicar.es/volkswagen/golf/segund...</td>\n",
       "      <td>Volkswagen Golf</td>\n",
       "      <td>2014</td>\n",
       "      <td>30000</td>\n",
       "      <td>2022</td>\n",
       "      <td>10000</td>\n",
       "      <td>125000</td>\n",
       "    </tr>\n",
       "    <tr>\n",
       "      <th>5</th>\n",
       "      <td>Volkswagen</td>\n",
       "      <td>t-roc</td>\n",
       "      <td>T-Roc</td>\n",
       "      <td>volkswagen</td>\n",
       "      <td>https://www.flexicar.es/volkswagen/t-roc/segun...</td>\n",
       "      <td>Volkswagen T-Roc</td>\n",
       "      <td>2014</td>\n",
       "      <td>30000</td>\n",
       "      <td>2022</td>\n",
       "      <td>10000</td>\n",
       "      <td>125000</td>\n",
       "    </tr>\n",
       "    <tr>\n",
       "      <th>6</th>\n",
       "      <td>Volkswagen</td>\n",
       "      <td>tiguan</td>\n",
       "      <td>Tiguan</td>\n",
       "      <td>volkswagen</td>\n",
       "      <td>https://www.flexicar.es/volkswagen/tiguan/segu...</td>\n",
       "      <td>Volkswagen Tiguan</td>\n",
       "      <td>2014</td>\n",
       "      <td>30000</td>\n",
       "      <td>2022</td>\n",
       "      <td>10000</td>\n",
       "      <td>125000</td>\n",
       "    </tr>\n",
       "    <tr>\n",
       "      <th>7</th>\n",
       "      <td>Mercedes-Benz</td>\n",
       "      <td>clase-a</td>\n",
       "      <td>A-Class</td>\n",
       "      <td>mercedes-benz</td>\n",
       "      <td>https://www.flexicar.es/mercedes-benz/clase-a/...</td>\n",
       "      <td>Mercedes-Benz A-Class</td>\n",
       "      <td>2014</td>\n",
       "      <td>30000</td>\n",
       "      <td>2022</td>\n",
       "      <td>10000</td>\n",
       "      <td>125000</td>\n",
       "    </tr>\n",
       "    <tr>\n",
       "      <th>8</th>\n",
       "      <td>Mercedes-Benz</td>\n",
       "      <td>clase-gla</td>\n",
       "      <td>GLA-Class</td>\n",
       "      <td>mercedes-benz</td>\n",
       "      <td>https://www.flexicar.es/mercedes-benz/clase-gl...</td>\n",
       "      <td>Mercedes-Benz GLA-Class</td>\n",
       "      <td>2014</td>\n",
       "      <td>30000</td>\n",
       "      <td>2022</td>\n",
       "      <td>10000</td>\n",
       "      <td>125000</td>\n",
       "    </tr>\n",
       "  </tbody>\n",
       "</table>\n",
       "</div>"
      ],
      "text/plain": [
       "        car_make        id1  car_model            id2  \\\n",
       "0           Audi         a3         A3           audi   \n",
       "1           Audi         a4         A4           audi   \n",
       "2            BMW         x1         X1            bmw   \n",
       "3        Renault   talisman   Talisman        renault   \n",
       "4     Volkswagen       golf       Golf     volkswagen   \n",
       "5     Volkswagen      t-roc      T-Roc     volkswagen   \n",
       "6     Volkswagen     tiguan     Tiguan     volkswagen   \n",
       "7  Mercedes-Benz    clase-a    A-Class  mercedes-benz   \n",
       "8  Mercedes-Benz  clase-gla  GLA-Class  mercedes-benz   \n",
       "\n",
       "                                                link                     Name  \\\n",
       "0      https://www.flexicar.es/audi/a3/segunda-mano/                  Audi A3   \n",
       "1      https://www.flexicar.es/audi/a4/segunda-mano/                  Audi A4   \n",
       "2       https://www.flexicar.es/bmw/x1/segunda-mano/                   BMW X1   \n",
       "3  https://www.flexicar.es/renault/talisman/segun...         Renault Talisman   \n",
       "4  https://www.flexicar.es/volkswagen/golf/segund...          Volkswagen Golf   \n",
       "5  https://www.flexicar.es/volkswagen/t-roc/segun...         Volkswagen T-Roc   \n",
       "6  https://www.flexicar.es/volkswagen/tiguan/segu...        Volkswagen Tiguan   \n",
       "7  https://www.flexicar.es/mercedes-benz/clase-a/...    Mercedes-Benz A-Class   \n",
       "8  https://www.flexicar.es/mercedes-benz/clase-gl...  Mercedes-Benz GLA-Class   \n",
       "\n",
       "   year_min  price_max  year_max  price_min  km_max  \n",
       "0      2014      30000      2022      10000  125000  \n",
       "1      2014      30000      2022      10000  125000  \n",
       "2      2014      30000      2022      10000  125000  \n",
       "3      2014      30000      2022      10000  125000  \n",
       "4      2014      30000      2022      10000  125000  \n",
       "5      2014      30000      2022      10000  125000  \n",
       "6      2014      30000      2022      10000  125000  \n",
       "7      2014      30000      2022      10000  125000  \n",
       "8      2014      30000      2022      10000  125000  "
      ]
     },
     "execution_count": 6,
     "metadata": {},
     "output_type": "execute_result"
    }
   ],
   "source": [
    "df_cars_check = read_csv('gstorage','data/flexicar/make_and_model_links.csv',bucket)\n",
    "df_cars_check"
   ]
  },
  {
   "cell_type": "code",
   "execution_count": 7,
   "metadata": {},
   "outputs": [
    {
     "data": {
      "text/plain": [
       "'data/flexicar/final_data/scrap_flexicar_20220508_164703.csv'"
      ]
     },
     "execution_count": 7,
     "metadata": {},
     "output_type": "execute_result"
    }
   ],
   "source": [
    "path= list_files('gstorage','data/flexicar/final_data',bucket)[-2]\n",
    "path"
   ]
  },
  {
   "cell_type": "code",
   "execution_count": 8,
   "metadata": {},
   "outputs": [
    {
     "data": {
      "text/plain": [
       "car_make       car_model\n",
       "Mercedes-Benz  A-Class      48\n",
       "Volkswagen     Golf         47\n",
       "Mercedes-Benz  GLA-Class    27\n",
       "BMW            X1           24\n",
       "Volkswagen     Tiguan       24\n",
       "Audi           A4           19\n",
       "Volkswagen     T-Roc        18\n",
       "Renault        Talisman     14\n",
       "Audi           A3            1\n",
       "dtype: int64"
      ]
     },
     "execution_count": 8,
     "metadata": {},
     "output_type": "execute_result"
    }
   ],
   "source": [
    "df = read_csv('gstorage',list_files('gstorage','data/flexicar/final_data',bucket)[-2],bucket)\n",
    "df[['car_make','car_model']].value_counts()"
   ]
  },
  {
   "cell_type": "code",
   "execution_count": 35,
   "metadata": {},
   "outputs": [],
   "source": [
    "def clean_data(data):\n",
    "    data['price'] = data['Price'].str.replace(',', '')\n",
    "    data['price'] = data['price'].str.extract('(\\d+)').astype(int, errors='ignore')\n",
    "\n",
    "    data = data[~data['price'].isna()]\n",
    "    data['price'] = data['price'].astype(int)\n",
    "    \n",
    "    # data['year'] = data['First Registration'].apply(lambda x : str(x).split('/')[1])\n",
    "    # data['month'] = data['First Registration'].apply(lambda x : str(x).split('/')[0])\n",
    "    data['price_category'] = data['Price'].str.extract('([a-zA-Z]+)')\n",
    "    return data"
   ]
  },
  {
   "cell_type": "code",
   "execution_count": null,
   "metadata": {},
   "outputs": [],
   "source": [
    "storage_type = 'gstorage'\n",
    "\n",
    "fileList = list_files(storage_type, \"data/mobile_de/make_model_ads_data/\", bucket)\n",
    "len(fileList)"
   ]
  },
  {
   "cell_type": "code",
   "execution_count": 11,
   "metadata": {},
   "outputs": [
    {
     "name": "stdout",
     "output_type": "stream",
     "text": [
      "\n"
     ]
    }
   ],
   "source": [
    "name = 'mobile_de'\n",
    "storage_type = 'gstorage'\n",
    "import tqdm\n",
    "import pandas as pd\n",
    "\n",
    "def concatenate_dfs(indir, save_to_csv,bucket,storage_type):\n",
    "    \n",
    "    fileList = list_files(storage_type, indir, bucket)\n",
    "\n",
    "    dfs = [read_csv(storage_type, path, bucket) for path in fileList[:2000]]\n",
    "\n",
    "    output_file = pd.concat(dfs)\n",
    "\n",
    "    cols = list(set(output_file.columns) - set(['download_date_time']))\n",
    "    output_file = output_file.drop_duplicates(subset=cols,keep='last')\n",
    "\n",
    "    if save_to_csv:\n",
    "        try:\n",
    "            write_csv(storage_type,output_file,f\"data/mobile_de/make_model_ads_concatinated.csv\",bucket)\n",
    "        except:\n",
    "            print('')\n",
    "\n",
    "    output_file.reset_index(drop=True, inplace=True)\n",
    "\n",
    "    return(output_file)\n",
    "\n",
    "def merge_make_model_keep_latest(data,make_model_ads_data_latest):\n",
    "    latest_scrape = data.groupby(['link'], dropna=True).agg(number_of_ads=('link', 'count'), latest_scrape=('download_date_time', 'max'))\n",
    "    latest_scrape = latest_scrape.reset_index()\n",
    "\n",
    "    data = pd.merge(data, latest_scrape[['link', 'latest_scrape']], how = 'left', left_on = ['link'], right_on = ['link'])\n",
    "    data = data.reset_index(drop=True)\n",
    "    # keep rows where download_date_time is equal to latest_scrape\n",
    "    data = data[data['download_date_time'] == data['latest_scrape']]\n",
    "    data = data.reset_index(drop=True)\n",
    "    # drop the latest_scrape column\n",
    "    data = data.drop(columns = ['latest_scrape'])\n",
    "    make_model_ads_data_latest = make_model_ads_data_latest[['make_model_link','car_make', 'car_model']].drop_duplicates(keep='first')\n",
    "\n",
    "    data = pd.merge(data, make_model_ads_data_latest, how = 'inner', left_on = 'make_model_link', right_on = 'make_model_link')\n",
    "\n",
    "    return data\n",
    "\n",
    "individual_ads_data = clean_data(concatenate_dfs(f\"data/mobile_de/make_model_ads_data/\",  True,bucket,storage_type)).drop_na"
   ]
  },
  {
   "cell_type": "code",
   "execution_count": 49,
   "metadata": {},
   "outputs": [
    {
     "name": "stdout",
     "output_type": "stream",
     "text": [
      "\n"
     ]
    },
    {
     "ename": "NameError",
     "evalue": "name 'merge_make_model_keep_latest' is not defined",
     "output_type": "error",
     "traceback": [
      "\u001b[0;31m---------------------------------------------------------------------------\u001b[0m",
      "\u001b[0;31mNameError\u001b[0m                                 Traceback (most recent call last)",
      "Input \u001b[0;32mIn [49]\u001b[0m, in \u001b[0;36m<cell line: 7>\u001b[0;34m()\u001b[0m\n\u001b[1;32m      3\u001b[0m individual_ads_data \u001b[38;5;241m=\u001b[39m clean_data(individual_ads_data\u001b[38;5;241m.\u001b[39mdropna())\n\u001b[1;32m      5\u001b[0m individual_ads_data \u001b[38;5;241m=\u001b[39m concatenate_dfs(\u001b[38;5;124m\"\u001b[39m\u001b[38;5;124mdata/mobile_de/make_model_ads_data/\u001b[39m\u001b[38;5;124m\"\u001b[39m,  \u001b[38;5;28;01mTrue\u001b[39;00m,bucket,storage_type)\n\u001b[0;32m----> 7\u001b[0m ads_df \u001b[38;5;241m=\u001b[39m \u001b[43mmerge_make_model_keep_latest\u001b[49m(data \u001b[38;5;241m=\u001b[39m individual_ads_data, make_model_ads_data_latest \u001b[38;5;241m=\u001b[39m make_model_ads_data_latest)\n\u001b[1;32m      8\u001b[0m ads_df_clean \u001b[38;5;241m=\u001b[39m clean_data(data \u001b[38;5;241m=\u001b[39m ads_df)\n\u001b[1;32m     10\u001b[0m now \u001b[38;5;241m=\u001b[39m datetime\u001b[38;5;241m.\u001b[39mnow() \n",
      "\u001b[0;31mNameError\u001b[0m: name 'merge_make_model_keep_latest' is not defined"
     ]
    }
   ],
   "source": [
    "make_model_ads_data = read_csv(storage_type,\"data/mobile_de/make_model_ads_links_concatinated.csv\", bucket)\n",
    "\n",
    "individual_ads_data = clean_data(individual_ads_data.dropna())\n",
    "\n",
    "individual_ads_data = concatenate_dfs(\"data/mobile_de/make_model_ads_data/\",  True,bucket,storage_type)\n",
    "\n",
    "ads_df = merge_make_model_keep_latest(data = individual_ads_data, make_model_ads_data_latest = make_model_ads_data_latest)\n",
    "ads_df_clean = clean_data(data = ads_df)\n",
    "\n",
    "now = datetime.now() \n",
    "datetime_string = str(now.strftime(\"%Y%m%d_%H%M%S\"))\n",
    "ads_df_clean['audit_date'] = datetime_string\n",
    "df_mb = ads_df_clean.copy()"
   ]
  },
  {
   "cell_type": "code",
   "execution_count": 29,
   "metadata": {},
   "outputs": [
    {
     "data": {
      "text/plain": [
       "Audi A4    345\n",
       "Audi A3    312\n",
       "Name: model, dtype: int64"
      ]
     },
     "execution_count": 29,
     "metadata": {},
     "output_type": "execute_result"
    }
   ],
   "source": [
    "df_mb['model'].dropna().value_counts()"
   ]
  },
  {
   "cell_type": "code",
   "execution_count": 43,
   "metadata": {},
   "outputs": [
    {
     "data": {
      "text/plain": [
       "12590"
      ]
     },
     "execution_count": 43,
     "metadata": {},
     "output_type": "execute_result"
    }
   ],
   "source": [
    "df_mb['price'].min()"
   ]
  },
  {
   "cell_type": "code",
   "execution_count": 45,
   "metadata": {},
   "outputs": [
    {
     "data": {
      "text/plain": [
       "Index(['Price', 'Category', 'Mileage', 'Cubic Capacity', 'Power', 'Fuel',\n",
       "       'Fuel Consumption ', 'Energy efficiency class', 'Number of Seats',\n",
       "       'Gearbox', 'Emissions Sticker', 'First Registration', 'Parking sensors',\n",
       "       'Colour', 'Interior Design', 'link', 'make_model_link', 'model',\n",
       "       'download_date_time', 'price', 'price_category'],\n",
       "      dtype='object')"
      ]
     },
     "execution_count": 45,
     "metadata": {},
     "output_type": "execute_result"
    }
   ],
   "source": [
    "df_mb.columns"
   ]
  },
  {
   "cell_type": "code",
   "execution_count": 44,
   "metadata": {},
   "outputs": [
    {
     "data": {
      "text/plain": [
       "Index(['First Registration', 'Mileage', 'Fuel', 'Number of Seats',\n",
       "       'Cubic Capacity', 'Colour', 'Gearbox', 'Consume', 'IVA', 'Price',\n",
       "       'model_type', 'location', 'Emissions Sticker', 'Interior', 'price',\n",
       "       'price_category', 'link', 'download_date_time', 'ad_link', 'car_make',\n",
       "       'car_model', 'audit_date'],\n",
       "      dtype='object')"
      ]
     },
     "execution_count": 44,
     "metadata": {},
     "output_type": "execute_result"
    }
   ],
   "source": [
    "df.columns"
   ]
  },
  {
   "cell_type": "code",
   "execution_count": null,
   "metadata": {},
   "outputs": [],
   "source": [
    "set(list(df.columns)) - (set(list(df.columns)) - set(list(df_mb.columns)))"
   ]
  }
 ],
 "metadata": {
  "kernelspec": {
   "display_name": "Python 3 (ipykernel)",
   "language": "python",
   "name": "python3"
  },
  "language_info": {
   "codemirror_mode": {
    "name": "ipython",
    "version": 3
   },
   "file_extension": ".py",
   "mimetype": "text/x-python",
   "name": "python",
   "nbconvert_exporter": "python",
   "pygments_lexer": "ipython3",
   "version": "3.8.13"
  },
  "vscode": {
   "interpreter": {
    "hash": "91042d0d38b45b522d376e764d6569782219c582e018b2f9efaabbf237f1afe9"
   }
  }
 },
 "nbformat": 4,
 "nbformat_minor": 4
}
