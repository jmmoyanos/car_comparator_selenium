{
 "cells": [
  {
   "cell_type": "code",
   "execution_count": 1,
   "metadata": {},
   "outputs": [],
   "source": [
    "from utils import read_csv, list_files\n",
    "import pandas as pandas\n"
   ]
  },
  {
   "cell_type": "code",
   "execution_count": 4,
   "metadata": {},
   "outputs": [
    {
     "ename": "SyntaxError",
     "evalue": "EOL while scanning string literal (549662695.py, line 2)",
     "output_type": "error",
     "traceback": [
      "\u001b[0;36m  Input \u001b[0;32mIn [4]\u001b[0;36m\u001b[0m\n\u001b[0;31m    crets.json'\u001b[0m\n\u001b[0m               ^\u001b[0m\n\u001b[0;31mSyntaxError\u001b[0m\u001b[0;31m:\u001b[0m EOL while scanning string literal\n"
     ]
    }
   ],
   "source": [
    "! export GOOGLE_APPLICATION_CREDENTIALS='/Users/josemariamoyano/Documents/python_projects/car_cormparator/src/secrets/client_se\n",
    "crets.json'"
   ]
  },
  {
   "cell_type": "code",
   "execution_count": 2,
   "metadata": {},
   "outputs": [
    {
     "ename": "DefaultCredentialsError",
     "evalue": "Could not automatically determine credentials. Please set GOOGLE_APPLICATION_CREDENTIALS or explicitly create credentials and re-run the application. For more information, please see https://cloud.google.com/docs/authentication/getting-started",
     "output_type": "error",
     "traceback": [
      "\u001b[0;31m---------------------------------------------------------------------------\u001b[0m",
      "\u001b[0;31mDefaultCredentialsError\u001b[0m                   Traceback (most recent call last)",
      "\u001b[1;32m/Users/josemariamoyano/Documents/python_projects/car_cormparator/src/Transform/transform.ipynb Cell 3'\u001b[0m in \u001b[0;36m<cell line: 2>\u001b[0;34m()\u001b[0m\n\u001b[1;32m      <a href='vscode-notebook-cell:/Users/josemariamoyano/Documents/python_projects/car_cormparator/src/Transform/transform.ipynb#ch0000002?line=0'>1</a>\u001b[0m \u001b[39mfrom\u001b[39;00m \u001b[39mstorage\u001b[39;00m \u001b[39mimport\u001b[39;00m GStorage\n\u001b[0;32m----> <a href='vscode-notebook-cell:/Users/josemariamoyano/Documents/python_projects/car_cormparator/src/Transform/transform.ipynb#ch0000002?line=1'>2</a>\u001b[0m bucket \u001b[39m=\u001b[39m GStorage(\u001b[39m'\u001b[39;49m\u001b[39mcar_comparator\u001b[39;49m\u001b[39m'\u001b[39;49m)\n",
      "File \u001b[0;32m~/Documents/python_projects/car_cormparator/src/Transform/storage.py:8\u001b[0m, in \u001b[0;36mGStorage.__init__\u001b[0;34m(self, bucket_name)\u001b[0m\n\u001b[1;32m      <a href='file:///Users/josemariamoyano/Documents/python_projects/car_cormparator/src/Transform/storage.py?line=6'>7</a>\u001b[0m \u001b[39mdef\u001b[39;00m \u001b[39m__init__\u001b[39m(\u001b[39mself\u001b[39m, bucket_name):\n\u001b[0;32m----> <a href='file:///Users/josemariamoyano/Documents/python_projects/car_cormparator/src/Transform/storage.py?line=7'>8</a>\u001b[0m     storage_client \u001b[39m=\u001b[39m storage\u001b[39m.\u001b[39;49mClient()\n\u001b[1;32m      <a href='file:///Users/josemariamoyano/Documents/python_projects/car_cormparator/src/Transform/storage.py?line=8'>9</a>\u001b[0m     \u001b[39mself\u001b[39m\u001b[39m.\u001b[39mbucket_name \u001b[39m=\u001b[39m bucket_name\n\u001b[1;32m     <a href='file:///Users/josemariamoyano/Documents/python_projects/car_cormparator/src/Transform/storage.py?line=9'>10</a>\u001b[0m     \u001b[39mself\u001b[39m\u001b[39m.\u001b[39mbucket \u001b[39m=\u001b[39m storage_client\u001b[39m.\u001b[39mget_bucket(bucket_name)\n",
      "File \u001b[0;32m~/miniforge3/envs/car_env/lib/python3.8/site-packages/google/cloud/storage/client.py:161\u001b[0m, in \u001b[0;36mClient.__init__\u001b[0;34m(self, project, credentials, _http, client_info, client_options)\u001b[0m\n\u001b[1;32m    <a href='file:///Users/josemariamoyano/miniforge3/envs/car_env/lib/python3.8/site-packages/google/cloud/storage/client.py?line=157'>158</a>\u001b[0m         no_project \u001b[39m=\u001b[39m \u001b[39mTrue\u001b[39;00m\n\u001b[1;32m    <a href='file:///Users/josemariamoyano/miniforge3/envs/car_env/lib/python3.8/site-packages/google/cloud/storage/client.py?line=158'>159</a>\u001b[0m         project \u001b[39m=\u001b[39m \u001b[39m\"\u001b[39m\u001b[39m<none>\u001b[39m\u001b[39m\"\u001b[39m\n\u001b[0;32m--> <a href='file:///Users/josemariamoyano/miniforge3/envs/car_env/lib/python3.8/site-packages/google/cloud/storage/client.py?line=160'>161</a>\u001b[0m \u001b[39msuper\u001b[39;49m(Client, \u001b[39mself\u001b[39;49m)\u001b[39m.\u001b[39;49m\u001b[39m__init__\u001b[39;49m(\n\u001b[1;32m    <a href='file:///Users/josemariamoyano/miniforge3/envs/car_env/lib/python3.8/site-packages/google/cloud/storage/client.py?line=161'>162</a>\u001b[0m     project\u001b[39m=\u001b[39;49mproject,\n\u001b[1;32m    <a href='file:///Users/josemariamoyano/miniforge3/envs/car_env/lib/python3.8/site-packages/google/cloud/storage/client.py?line=162'>163</a>\u001b[0m     credentials\u001b[39m=\u001b[39;49mcredentials,\n\u001b[1;32m    <a href='file:///Users/josemariamoyano/miniforge3/envs/car_env/lib/python3.8/site-packages/google/cloud/storage/client.py?line=163'>164</a>\u001b[0m     client_options\u001b[39m=\u001b[39;49mclient_options,\n\u001b[1;32m    <a href='file:///Users/josemariamoyano/miniforge3/envs/car_env/lib/python3.8/site-packages/google/cloud/storage/client.py?line=164'>165</a>\u001b[0m     _http\u001b[39m=\u001b[39;49m_http,\n\u001b[1;32m    <a href='file:///Users/josemariamoyano/miniforge3/envs/car_env/lib/python3.8/site-packages/google/cloud/storage/client.py?line=165'>166</a>\u001b[0m )\n\u001b[1;32m    <a href='file:///Users/josemariamoyano/miniforge3/envs/car_env/lib/python3.8/site-packages/google/cloud/storage/client.py?line=167'>168</a>\u001b[0m \u001b[39mif\u001b[39;00m no_project:\n\u001b[1;32m    <a href='file:///Users/josemariamoyano/miniforge3/envs/car_env/lib/python3.8/site-packages/google/cloud/storage/client.py?line=168'>169</a>\u001b[0m     \u001b[39mself\u001b[39m\u001b[39m.\u001b[39mproject \u001b[39m=\u001b[39m \u001b[39mNone\u001b[39;00m\n",
      "File \u001b[0;32m~/miniforge3/envs/car_env/lib/python3.8/site-packages/google/cloud/client/__init__.py:320\u001b[0m, in \u001b[0;36mClientWithProject.__init__\u001b[0;34m(self, project, credentials, client_options, _http)\u001b[0m\n\u001b[1;32m    <a href='file:///Users/josemariamoyano/miniforge3/envs/car_env/lib/python3.8/site-packages/google/cloud/client/__init__.py?line=318'>319</a>\u001b[0m \u001b[39mdef\u001b[39;00m \u001b[39m__init__\u001b[39m(\u001b[39mself\u001b[39m, project\u001b[39m=\u001b[39m\u001b[39mNone\u001b[39;00m, credentials\u001b[39m=\u001b[39m\u001b[39mNone\u001b[39;00m, client_options\u001b[39m=\u001b[39m\u001b[39mNone\u001b[39;00m, _http\u001b[39m=\u001b[39m\u001b[39mNone\u001b[39;00m):\n\u001b[0;32m--> <a href='file:///Users/josemariamoyano/miniforge3/envs/car_env/lib/python3.8/site-packages/google/cloud/client/__init__.py?line=319'>320</a>\u001b[0m     _ClientProjectMixin\u001b[39m.\u001b[39;49m\u001b[39m__init__\u001b[39;49m(\u001b[39mself\u001b[39;49m, project\u001b[39m=\u001b[39;49mproject, credentials\u001b[39m=\u001b[39;49mcredentials)\n\u001b[1;32m    <a href='file:///Users/josemariamoyano/miniforge3/envs/car_env/lib/python3.8/site-packages/google/cloud/client/__init__.py?line=320'>321</a>\u001b[0m     Client\u001b[39m.\u001b[39m\u001b[39m__init__\u001b[39m(\n\u001b[1;32m    <a href='file:///Users/josemariamoyano/miniforge3/envs/car_env/lib/python3.8/site-packages/google/cloud/client/__init__.py?line=321'>322</a>\u001b[0m         \u001b[39mself\u001b[39m, credentials\u001b[39m=\u001b[39mcredentials, client_options\u001b[39m=\u001b[39mclient_options, _http\u001b[39m=\u001b[39m_http\n\u001b[1;32m    <a href='file:///Users/josemariamoyano/miniforge3/envs/car_env/lib/python3.8/site-packages/google/cloud/client/__init__.py?line=322'>323</a>\u001b[0m     )\n",
      "File \u001b[0;32m~/miniforge3/envs/car_env/lib/python3.8/site-packages/google/cloud/client/__init__.py:268\u001b[0m, in \u001b[0;36m_ClientProjectMixin.__init__\u001b[0;34m(self, project, credentials)\u001b[0m\n\u001b[1;32m    <a href='file:///Users/josemariamoyano/miniforge3/envs/car_env/lib/python3.8/site-packages/google/cloud/client/__init__.py?line=264'>265</a>\u001b[0m     project \u001b[39m=\u001b[39m \u001b[39mgetattr\u001b[39m(credentials, \u001b[39m\"\u001b[39m\u001b[39mproject_id\u001b[39m\u001b[39m\"\u001b[39m, \u001b[39mNone\u001b[39;00m)\n\u001b[1;32m    <a href='file:///Users/josemariamoyano/miniforge3/envs/car_env/lib/python3.8/site-packages/google/cloud/client/__init__.py?line=266'>267</a>\u001b[0m \u001b[39mif\u001b[39;00m project \u001b[39mis\u001b[39;00m \u001b[39mNone\u001b[39;00m:\n\u001b[0;32m--> <a href='file:///Users/josemariamoyano/miniforge3/envs/car_env/lib/python3.8/site-packages/google/cloud/client/__init__.py?line=267'>268</a>\u001b[0m     project \u001b[39m=\u001b[39m \u001b[39mself\u001b[39;49m\u001b[39m.\u001b[39;49m_determine_default(project)\n\u001b[1;32m    <a href='file:///Users/josemariamoyano/miniforge3/envs/car_env/lib/python3.8/site-packages/google/cloud/client/__init__.py?line=269'>270</a>\u001b[0m \u001b[39mif\u001b[39;00m project \u001b[39mis\u001b[39;00m \u001b[39mNone\u001b[39;00m:\n\u001b[1;32m    <a href='file:///Users/josemariamoyano/miniforge3/envs/car_env/lib/python3.8/site-packages/google/cloud/client/__init__.py?line=270'>271</a>\u001b[0m     \u001b[39mraise\u001b[39;00m \u001b[39mEnvironmentError\u001b[39;00m(\n\u001b[1;32m    <a href='file:///Users/josemariamoyano/miniforge3/envs/car_env/lib/python3.8/site-packages/google/cloud/client/__init__.py?line=271'>272</a>\u001b[0m         \u001b[39m\"\u001b[39m\u001b[39mProject was not passed and could not be \u001b[39m\u001b[39m\"\u001b[39m\n\u001b[1;32m    <a href='file:///Users/josemariamoyano/miniforge3/envs/car_env/lib/python3.8/site-packages/google/cloud/client/__init__.py?line=272'>273</a>\u001b[0m         \u001b[39m\"\u001b[39m\u001b[39mdetermined from the environment.\u001b[39m\u001b[39m\"\u001b[39m\n\u001b[1;32m    <a href='file:///Users/josemariamoyano/miniforge3/envs/car_env/lib/python3.8/site-packages/google/cloud/client/__init__.py?line=273'>274</a>\u001b[0m     )\n",
      "File \u001b[0;32m~/miniforge3/envs/car_env/lib/python3.8/site-packages/google/cloud/client/__init__.py:287\u001b[0m, in \u001b[0;36m_ClientProjectMixin._determine_default\u001b[0;34m(project)\u001b[0m\n\u001b[1;32m    <a href='file:///Users/josemariamoyano/miniforge3/envs/car_env/lib/python3.8/site-packages/google/cloud/client/__init__.py?line=283'>284</a>\u001b[0m \u001b[39m@staticmethod\u001b[39m\n\u001b[1;32m    <a href='file:///Users/josemariamoyano/miniforge3/envs/car_env/lib/python3.8/site-packages/google/cloud/client/__init__.py?line=284'>285</a>\u001b[0m \u001b[39mdef\u001b[39;00m \u001b[39m_determine_default\u001b[39m(project):\n\u001b[1;32m    <a href='file:///Users/josemariamoyano/miniforge3/envs/car_env/lib/python3.8/site-packages/google/cloud/client/__init__.py?line=285'>286</a>\u001b[0m     \u001b[39m\"\"\"Helper:  use default project detection.\"\"\"\u001b[39;00m\n\u001b[0;32m--> <a href='file:///Users/josemariamoyano/miniforge3/envs/car_env/lib/python3.8/site-packages/google/cloud/client/__init__.py?line=286'>287</a>\u001b[0m     \u001b[39mreturn\u001b[39;00m _determine_default_project(project)\n",
      "File \u001b[0;32m~/miniforge3/envs/car_env/lib/python3.8/site-packages/google/cloud/_helpers/__init__.py:152\u001b[0m, in \u001b[0;36m_determine_default_project\u001b[0;34m(project)\u001b[0m\n\u001b[1;32m    <a href='file:///Users/josemariamoyano/miniforge3/envs/car_env/lib/python3.8/site-packages/google/cloud/_helpers/__init__.py?line=139'>140</a>\u001b[0m \u001b[39m\"\"\"Determine default project ID explicitly or implicitly as fall-back.\u001b[39;00m\n\u001b[1;32m    <a href='file:///Users/josemariamoyano/miniforge3/envs/car_env/lib/python3.8/site-packages/google/cloud/_helpers/__init__.py?line=140'>141</a>\u001b[0m \n\u001b[1;32m    <a href='file:///Users/josemariamoyano/miniforge3/envs/car_env/lib/python3.8/site-packages/google/cloud/_helpers/__init__.py?line=141'>142</a>\u001b[0m \u001b[39mSee :func:`google.auth.default` for details on how the default project\u001b[39;00m\n\u001b[0;32m   (...)\u001b[0m\n\u001b[1;32m    <a href='file:///Users/josemariamoyano/miniforge3/envs/car_env/lib/python3.8/site-packages/google/cloud/_helpers/__init__.py?line=148'>149</a>\u001b[0m \u001b[39m:returns: Default project if it can be determined.\u001b[39;00m\n\u001b[1;32m    <a href='file:///Users/josemariamoyano/miniforge3/envs/car_env/lib/python3.8/site-packages/google/cloud/_helpers/__init__.py?line=149'>150</a>\u001b[0m \u001b[39m\"\"\"\u001b[39;00m\n\u001b[1;32m    <a href='file:///Users/josemariamoyano/miniforge3/envs/car_env/lib/python3.8/site-packages/google/cloud/_helpers/__init__.py?line=150'>151</a>\u001b[0m \u001b[39mif\u001b[39;00m project \u001b[39mis\u001b[39;00m \u001b[39mNone\u001b[39;00m:\n\u001b[0;32m--> <a href='file:///Users/josemariamoyano/miniforge3/envs/car_env/lib/python3.8/site-packages/google/cloud/_helpers/__init__.py?line=151'>152</a>\u001b[0m     _, project \u001b[39m=\u001b[39m google\u001b[39m.\u001b[39;49mauth\u001b[39m.\u001b[39;49mdefault()\n\u001b[1;32m    <a href='file:///Users/josemariamoyano/miniforge3/envs/car_env/lib/python3.8/site-packages/google/cloud/_helpers/__init__.py?line=152'>153</a>\u001b[0m \u001b[39mreturn\u001b[39;00m project\n",
      "File \u001b[0;32m~/miniforge3/envs/car_env/lib/python3.8/site-packages/google/auth/_default.py:577\u001b[0m, in \u001b[0;36mdefault\u001b[0;34m(scopes, request, quota_project_id, default_scopes)\u001b[0m\n\u001b[1;32m    <a href='file:///Users/josemariamoyano/miniforge3/envs/car_env/lib/python3.8/site-packages/google/auth/_default.py?line=568'>569</a>\u001b[0m             _LOGGER\u001b[39m.\u001b[39mwarning(\n\u001b[1;32m    <a href='file:///Users/josemariamoyano/miniforge3/envs/car_env/lib/python3.8/site-packages/google/auth/_default.py?line=569'>570</a>\u001b[0m                 \u001b[39m\"\u001b[39m\u001b[39mNo project ID could be determined. Consider running \u001b[39m\u001b[39m\"\u001b[39m\n\u001b[1;32m    <a href='file:///Users/josemariamoyano/miniforge3/envs/car_env/lib/python3.8/site-packages/google/auth/_default.py?line=570'>571</a>\u001b[0m                 \u001b[39m\"\u001b[39m\u001b[39m`gcloud config set project` or setting the \u001b[39m\u001b[39m%s\u001b[39;00m\u001b[39m \u001b[39m\u001b[39m\"\u001b[39m\n\u001b[1;32m    <a href='file:///Users/josemariamoyano/miniforge3/envs/car_env/lib/python3.8/site-packages/google/auth/_default.py?line=571'>572</a>\u001b[0m                 \u001b[39m\"\u001b[39m\u001b[39menvironment variable\u001b[39m\u001b[39m\"\u001b[39m,\n\u001b[1;32m    <a href='file:///Users/josemariamoyano/miniforge3/envs/car_env/lib/python3.8/site-packages/google/auth/_default.py?line=572'>573</a>\u001b[0m                 environment_vars\u001b[39m.\u001b[39mPROJECT,\n\u001b[1;32m    <a href='file:///Users/josemariamoyano/miniforge3/envs/car_env/lib/python3.8/site-packages/google/auth/_default.py?line=573'>574</a>\u001b[0m             )\n\u001b[1;32m    <a href='file:///Users/josemariamoyano/miniforge3/envs/car_env/lib/python3.8/site-packages/google/auth/_default.py?line=574'>575</a>\u001b[0m         \u001b[39mreturn\u001b[39;00m credentials, effective_project_id\n\u001b[0;32m--> <a href='file:///Users/josemariamoyano/miniforge3/envs/car_env/lib/python3.8/site-packages/google/auth/_default.py?line=576'>577</a>\u001b[0m \u001b[39mraise\u001b[39;00m exceptions\u001b[39m.\u001b[39mDefaultCredentialsError(_HELP_MESSAGE)\n",
      "\u001b[0;31mDefaultCredentialsError\u001b[0m: Could not automatically determine credentials. Please set GOOGLE_APPLICATION_CREDENTIALS or explicitly create credentials and re-run the application. For more information, please see https://cloud.google.com/docs/authentication/getting-started"
     ]
    }
   ],
   "source": [
    "from storage import GStorage\n",
    "bucket = GStorage('car_comparator')"
   ]
  },
  {
   "cell_type": "code",
   "execution_count": 5,
   "metadata": {},
   "outputs": [
    {
     "ename": "TypeError",
     "evalue": "read_csv() missing 1 required positional argument: 'path'",
     "output_type": "error",
     "traceback": [
      "\u001b[0;31m---------------------------------------------------------------------------\u001b[0m",
      "\u001b[0;31mTypeError\u001b[0m                                 Traceback (most recent call last)",
      "\u001b[1;32m/Users/josemariamoyano/Documents/python_projects/car_cormparator/src/Transform/transform.ipynb Cell 2'\u001b[0m in \u001b[0;36m<cell line: 1>\u001b[0;34m()\u001b[0m\n\u001b[0;32m----> <a href='vscode-notebook-cell:/Users/josemariamoyano/Documents/python_projects/car_cormparator/src/Transform/transform.ipynb#ch0000001?line=0'>1</a>\u001b[0m df \u001b[39m=\u001b[39m read_csv(\u001b[39m'\u001b[39;49m\u001b[39mdata/mobile_de/final_data/\u001b[39;49m\u001b[39m'\u001b[39;49m)\n",
      "\u001b[0;31mTypeError\u001b[0m: read_csv() missing 1 required positional argument: 'path'"
     ]
    }
   ],
   "source": [
    "df = read_csv('data/mobile_de/final_data/')"
   ]
  }
 ],
 "metadata": {
  "kernelspec": {
   "display_name": "Python 3.8.13 ('car_env')",
   "language": "python",
   "name": "python3"
  },
  "language_info": {
   "codemirror_mode": {
    "name": "ipython",
    "version": 3
   },
   "file_extension": ".py",
   "mimetype": "text/x-python",
   "name": "python",
   "nbconvert_exporter": "python",
   "pygments_lexer": "ipython3",
   "version": "3.8.13"
  },
  "orig_nbformat": 4,
  "vscode": {
   "interpreter": {
    "hash": "91042d0d38b45b522d376e764d6569782219c582e018b2f9efaabbf237f1afe9"
   }
  }
 },
 "nbformat": 4,
 "nbformat_minor": 2
}
