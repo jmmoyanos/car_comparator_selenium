{
 "cells": [
  {
   "cell_type": "code",
   "execution_count": 1,
   "metadata": {},
   "outputs": [],
   "source": [
    "import requests\n",
    "import requests\n",
    "import re\n",
    "import os\n",
    "\n",
    "secret = \"secret_ykCuAA7S3BWsmQx7ueDXFcN68K8tVW6uBebjWmC8mAt\"\n",
    "page_url= \"https://www.notion.so/jmmoyano/050ad6eb764f4ebb901c306130732ce4?v=b44d2356140c4eb89b92cfba6cc113a0\""
   ]
  },
  {
   "cell_type": "code",
   "execution_count": 2,
   "metadata": {},
   "outputs": [],
   "source": [
    "os.environ[\"NOTION_API_KEY\"] = \"secret_ykCuAA7S3BWsmQx7ueDXFcN68K8tVW6uBebjWmC8mAt\""
   ]
  },
  {
   "cell_type": "code",
   "execution_count": 3,
   "metadata": {},
   "outputs": [],
   "source": [
    "import notion_df\n",
    "notion_df.pandas() #That's it!\n",
    "\n",
    "import pandas as pd\n",
    "df = pd.read_notion(page_url, api_key=\"secret_ykCuAA7S3BWsmQx7ueDXFcN68K8tVW6uBebjWmC8mAt\").drop_duplicates().loc[1:]\n"
   ]
  },
  {
   "cell_type": "code",
   "execution_count": 4,
   "metadata": {},
   "outputs": [
    {
     "data": {
      "text/html": [
       "<div>\n",
       "<style scoped>\n",
       "    .dataframe tbody tr th:only-of-type {\n",
       "        vertical-align: middle;\n",
       "    }\n",
       "\n",
       "    .dataframe tbody tr th {\n",
       "        vertical-align: top;\n",
       "    }\n",
       "\n",
       "    .dataframe thead th {\n",
       "        text-align: right;\n",
       "    }\n",
       "</style>\n",
       "<table border=\"1\" class=\"dataframe\">\n",
       "  <thead>\n",
       "    <tr style=\"text-align: right;\">\n",
       "      <th></th>\n",
       "      <th>year_min</th>\n",
       "      <th>url_de</th>\n",
       "      <th>url_spain</th>\n",
       "      <th>price</th>\n",
       "      <th>max_km</th>\n",
       "      <th>Name</th>\n",
       "    </tr>\n",
       "  </thead>\n",
       "  <tbody>\n",
       "    <tr>\n",
       "      <th>1</th>\n",
       "      <td>2015</td>\n",
       "      <td>https://suchen.mobile.de/fahrzeuge/search.html...</td>\n",
       "      <td>None</td>\n",
       "      <td>10000,20000</td>\n",
       "      <td>125000</td>\n",
       "      <td>Volvo v60</td>\n",
       "    </tr>\n",
       "    <tr>\n",
       "      <th>2</th>\n",
       "      <td>2015</td>\n",
       "      <td>https://suchen.mobile.de/fahrzeuge/search.html...</td>\n",
       "      <td>None</td>\n",
       "      <td>10000,20000</td>\n",
       "      <td>125000</td>\n",
       "      <td>volkswagen tiguan</td>\n",
       "    </tr>\n",
       "    <tr>\n",
       "      <th>3</th>\n",
       "      <td>2015</td>\n",
       "      <td>https://suchen.mobile.de/fahrzeuge/search.html...</td>\n",
       "      <td>None</td>\n",
       "      <td>10000,20000</td>\n",
       "      <td>125000</td>\n",
       "      <td>Mercedes GLA</td>\n",
       "    </tr>\n",
       "    <tr>\n",
       "      <th>4</th>\n",
       "      <td>2015</td>\n",
       "      <td>None</td>\n",
       "      <td>None</td>\n",
       "      <td>10000,20000</td>\n",
       "      <td>125000</td>\n",
       "      <td>Audi A3</td>\n",
       "    </tr>\n",
       "    <tr>\n",
       "      <th>5</th>\n",
       "      <td>2015</td>\n",
       "      <td>None</td>\n",
       "      <td>None</td>\n",
       "      <td>10000,20000</td>\n",
       "      <td>125000</td>\n",
       "      <td>Volkswagen Golf</td>\n",
       "    </tr>\n",
       "    <tr>\n",
       "      <th>6</th>\n",
       "      <td>2015</td>\n",
       "      <td>https://suchen.mobile.de/fahrzeuge/search.html...</td>\n",
       "      <td>None</td>\n",
       "      <td>10000,20000</td>\n",
       "      <td>125000</td>\n",
       "      <td>Mercedes A-class</td>\n",
       "    </tr>\n",
       "    <tr>\n",
       "      <th>8</th>\n",
       "      <td>2015</td>\n",
       "      <td>https://suchen.mobile.de/fahrzeuge/search.html...</td>\n",
       "      <td>https://www.coches.net/segunda-mano/?MakeId=7&amp;...</td>\n",
       "      <td>10000,20000</td>\n",
       "      <td>125000</td>\n",
       "      <td>BMW x1</td>\n",
       "    </tr>\n",
       "  </tbody>\n",
       "</table>\n",
       "</div>"
      ],
      "text/plain": [
       "  year_min                                             url_de  \\\n",
       "1     2015  https://suchen.mobile.de/fahrzeuge/search.html...   \n",
       "2     2015  https://suchen.mobile.de/fahrzeuge/search.html...   \n",
       "3     2015  https://suchen.mobile.de/fahrzeuge/search.html...   \n",
       "4     2015                                               None   \n",
       "5     2015                                               None   \n",
       "6     2015  https://suchen.mobile.de/fahrzeuge/search.html...   \n",
       "8     2015  https://suchen.mobile.de/fahrzeuge/search.html...   \n",
       "\n",
       "                                           url_spain        price  max_km  \\\n",
       "1                                               None  10000,20000  125000   \n",
       "2                                               None  10000,20000  125000   \n",
       "3                                               None  10000,20000  125000   \n",
       "4                                               None  10000,20000  125000   \n",
       "5                                               None  10000,20000  125000   \n",
       "6                                               None  10000,20000  125000   \n",
       "8  https://www.coches.net/segunda-mano/?MakeId=7&...  10000,20000  125000   \n",
       "\n",
       "                Name  \n",
       "1          Volvo v60  \n",
       "2  volkswagen tiguan  \n",
       "3      Mercedes GLA   \n",
       "4            Audi A3  \n",
       "5   Volkswagen Golf   \n",
       "6   Mercedes A-class  \n",
       "8             BMW x1  "
      ]
     },
     "execution_count": 4,
     "metadata": {},
     "output_type": "execute_result"
    }
   ],
   "source": [
    "df"
   ]
  },
  {
   "cell_type": "code",
   "execution_count": 5,
   "metadata": {},
   "outputs": [
    {
     "data": {
      "text/plain": [
       "Mercedes      2\n",
       "Volvo         1\n",
       "volkswagen    1\n",
       "Audi          1\n",
       "Volkswagen    1\n",
       "BMW           1\n",
       "Name: Brand, dtype: int64"
      ]
     },
     "execution_count": 5,
     "metadata": {},
     "output_type": "execute_result"
    }
   ],
   "source": [
    "df['Brand'] = df['Name'].apply(lambda x: x.split(' ')[0])\n",
    "df['Brand'].value_counts()"
   ]
  },
  {
   "cell_type": "code",
   "execution_count": 9,
   "metadata": {},
   "outputs": [],
   "source": [
    "URL = df['url_spain'].iloc[6]"
   ]
  },
  {
   "cell_type": "code",
   "execution_count": 10,
   "metadata": {},
   "outputs": [
    {
     "data": {
      "text/plain": [
       "'https://www.coches.net/segunda-mano/?MakeId=7&MaxKms=140000&MaxYear=2015&MinPrice=10000&MinYear=2015&ModelId=944'"
      ]
     },
     "execution_count": 10,
     "metadata": {},
     "output_type": "execute_result"
    }
   ],
   "source": [
    "URL"
   ]
  },
  {
   "cell_type": "code",
   "execution_count": 8,
   "metadata": {},
   "outputs": [],
   "source": [
    "import csv\n",
    "from urllib import request as urllib3\n",
    "from bs4 import BeautifulSoup\n",
    "import time\n",
    "\n",
    "outputpath = 'coches.csv'\n",
    "\n",
    "\n",
    "url = 'https://www.coches.net/segunda-mano/?pg=1%27&st=1%27'\n",
    "\n",
    "\n",
    "user_agent = 'Mozilla/5.0 (Windows; U; Windows NT 5.1; en-US; rv:1.9.0.7) Gecko/2009021910 Firefox/3.0.7'\n",
    "\n",
    "headers={'User-Agent':user_agent,} \n",
    "\n",
    "\n",
    "# Get URL\n",
    "response = urllib3.Request(url,None,headers)\n",
    "pagedata = urllib3.urlopen(response)\n",
    "html = pagedata.read()\n",
    "\n",
    "# Get links\n",
    "soup = BeautifulSoup(html, \"html.parser\")\n",
    "bloques = soup.select('.mt-Card-body')\n",
    "\n",
    "\n",
    "for bloque in bloques:\n",
    "    num = num + 1\n",
    "    titulo = bloque.select('.mt-CardAd-title .mt-CardAd-titleHiglight')[0].get_text()\n",
    "    marca = titulo.split(\" \")[0]\n",
    "    precio = bloque.select('.mt-CardAd-price .mt-CardAd-titleHiglight')[0].get_text().replace(\".\", \"\").replace(\"€\", \"\")\n",
    "    prov = bloque.select('.mt-CardAd-attribute')[0].get_text().replace(\"km\", \"\").replace(\".\", \"\")\n",
    "    motor = bloque.select('.mt-CardAd-attribute')[1].get_text().replace(\"km\", \"\").replace(\".\", \"\")\n",
    "    año = bloque.select('.mt-CardAd-attribute')[2].get_text().replace(\"km\", \"\").replace(\".\", \"\")\n",
    "    km = bloque.select('.mt-CardAd-attribute')[3].get_text().replace(\"km\", \"\").replace(\".\", \"\")\n",
    "    link = 'https://www.coches.net/' + bloque.select('.mt-CardAd-link')[0].get('href')\n",
    "    print (num, marca, precio, prov, motor, año, km, link)\n",
    "\n",
    "    # writer.writerow([num, titulo, marca, precio, prov, motor, año, km])"
   ]
  },
  {
   "cell_type": "code",
   "execution_count": 84,
   "metadata": {},
   "outputs": [],
   "source": [
    "import csv\n",
    "from urllib import request as urllib2\n",
    "from bs4 import BeautifulSoup\n",
    "import time\n",
    "\n",
    "\n",
    "url = 'https://www.mobile.de/?lang=en'\n",
    "hdr = {'User-Agent': 'Mozilla/5.0 (X11; Linux x86_64) AppleWebKit/537.11 (KHTML, like Gecko) Chrome/23.0.1271.64 Safari/537.11',\n",
    "         'Accept': 'text/html,application/xhtml+xml,application/xml;q=0.9,*/*;q=0.8',\n",
    "         'Referer': 'https://cssspritegenerator.com',\n",
    "         'Accept-Charset': 'ISO-8859-1,utf-8;q=0.7,*;q=0.3',\n",
    "         'Accept-Encoding': 'none',\n",
    "         'Accept-Language': 'en-US,en;q=0.8',\n",
    "         'Connection': 'keep-alive'}\n",
    "# Get URL\n",
    "response = urllib2.Request(url, headers=hdr)\n",
    "time.sleep(3)\n",
    "pagedata = urllib2.urlopen(response)\n",
    "html = pagedata.read()\n",
    "\n",
    "# Get links\n",
    "soup = BeautifulSoup(html, \"html.parser\")\n",
    "bloques = soup.select('.mt-Card-body')"
   ]
  },
  {
   "cell_type": "code",
   "execution_count": 85,
   "metadata": {},
   "outputs": [
    {
     "data": {
      "text/plain": [
       "b'<!DOCTYPE html>\\n<html>\\n  <!--\\nLeider koennen wir Dir an dieser Stelle keinen Zugriff auf unsere Daten gewaehren.\\nSolltest Du weiterhin Interesse an einem Bezug unserer Daten haben, wende Dich bitte an:\\n\\nUnfortunately, automated access to this page was denied.\\nIf you are interested in accessing our data, please contact us:\\n\\nPhone:\\n+49 (0) 30 8109-7573\\n\\nMail:\\nDatenpartner@team.mobile.de\\n  -->\\n  <head>\\n    <meta charset=\"UTF-8\">\\n\\n    <title>Ups, bist Du ein Mensch? / Are you a human?</title>\\n    <link rel=\"icon\" type=\"image/x-icon\" href=\"data:image/x-icon;base64,AAABAAEAEBAAAAAAAABoBAAAFgAAACgAAAAQAAAAIAAAAAEAIAAAAAAAAAQAAAAAAAAAAAAAAAAAAAAAAAAAAAAAbJ7yGTV+7Msdbuv/hKzr6/347tLw8O/S8vLy0vPz89Ly8vLS8PDw0vDw79Lt7e3S6urqnNDQ0AQAAAAAXpbwGih27MEfcOv/DWbr/4iv7P//+vD/8vLy//X19f/29vb/9fX1//Pz8//y8vL/7+/v/+3t7f3q6em05OTkGTR97c4fcOv/H3Dr/w5m6/+Ir+z///rw//Ly8v/19fX/9vb2//X19f/z8/P/8vLy/+/v7//t7e3/6urq/+fn5s8hcev/H3Dr/x9w6/8OZuv/iK/s///67/////////////X19f////////////Hx8f/6+vr//v7+/+vr6//n5+f/H3Dr/x9w6/8fcOv/Dmbr/4iw7f///fX/nJ2d/5mamf/6+vr/pqen/4+Qj//4+Pj/ra6u/4WGhv/m5ub/6urq/x9w6/8fcOv/H3Dr/w5m6/+IsO3////8/y0vL/8iJCT//////0FCQv8OEBD//////1laWv8AAgL/4eHh/+3t7f8fcOv/H3Dr/x9w6/8OZuv/iLDt////+/88Pj7/MjQ0//////9PUFD/HyEh//////9kZWX/EhQU/+Li4v/t7e3/H3Dr/x9w6/8fcOv/Dmbr/4iw7f////v/PD4+/zI0NP//////T1BQ/x8hIf//////ZGVl/xIUFP/i4uL/7e3t/x9w6/8fcOv/H3Dr/w5m6/+IsO3////7/zw+Pv80Njb//////1JTU/8gIiL//////2hpaf8RExP/4uLi/+3t7f8fcOv/H3Dr/x9w6/8OZuv/iLDt////+/8/QED/ERMT/8XGxv8/QUH/BggI/7+/v/9KTEz/ExUV/+Tk5P/t7Oz/H3Dr/x9w6/8fcOv/Dmbr/4iw7f////r/SktL/y0vL/8oKir/AgMD/2FiYv82Nzf/AAAA/2BhYf/19fT/6Ojo/x9w6/8fcOv/H3Dr/w5m6/+Ir+z///rx/+jo6P/y8vL/7O3t/87Ozv/8/Pz/7e3t/8nJyf/v7u7/7Ozs/+fn5/8fcOv/H3Dr/x9w6/8OZuv/iK/s///68P/19fX/9/f3//n5+f/9/f3/9PT0//X19f/39/f/7u7u/+rq6v/n5+f/MXvs4x5w6/8fcOv/Dmbr/4iv7P//+vD/8vLy//X19f/29vb/9fX1//Pz8//y8vL/7+/v/+3t7f/q6ur/5+fmwU2M7yUoduzGH3Dr/w5m6/+Ir+z///rw//Ly8v/19fX/9vb2//X19f/z8/P/8vLy/+/v7//t7e3/6urpu+Pj4hMAAAAAc6PyGDN87McRaOv/hq7r//347f/v7+//8fHx//Ly8v/x8fH/8PDw/+/v7//t7e386+vqtuLi4RAAAAAAwAMAAIABAAAAAAAAAAAAAAAAAAAAAAAAAAAAAAAAAAAAAAAAAAAAAAAAAAAAAAAAAAAAAAAAAACAAQAAwAMAAA==\">\\n    <script src=\\'https://www.mobile.de/api/consent/static/js/cmpApiStub.js\\'></script>\\n    <script src=\\'https://www.google.com/recaptcha/api.js\\'></script>\\n  </head>\\n  <body>\\n    <header id=\"mdeHeader\" class=\"header\">\\n      <div class=\"header-meta-container header-hidden-small\">\\n        <!-- placeholder for desktop meta -->\\n      </div>\\n      <div class=\"header-navbar clearfix\">\\n        <div class=\"header-corporate\">\\n          <a href=\"//www.mobile.de\"><i class=\"gicon-mobilede-logo\"></i></a>\\n          <span class=\"claim header-hidden-small\">Deutschlands gr\\xc3\\xb6\\xc3\\x9fter Fahrzeugmarkt</span>\\n        </div>\\n      </div>\\n    </header>\\n  <div class=\"g-container\">\\n    <h2 class=\"u-pad-bottom-18 u-margin-top-18\">Ups, bist Du ein Mensch? / Are you a human?</h2>\\n\\n\\n    <div id=\"root\"></div>\\n    <div class=\"cBox cBox--content\">\\n      <p><b>\\n        Um fortzufahren muss dein Browser Cookies unterst\\xc3\\xbctzen und JavaScript aktiviert sein.<br>\\n        To continue your browser has to accept cookies and has to have JavaScript enabled.</b>\\n      </p>\\n\\n      <p>\\n        Bei Problemen wende Dich bitte an:<br>\\n        In case of problems please contact:\\n      </p>\\n      <p>\\n        Phone: 030 81097-601<br>\\n        Mail: service@team.mobile.de\\n      </p>\\n\\n      <p>\\n        Sollte grunds\\xc3\\xa4tzliches Interesse am Bezug von mobile.de Daten bestehen, wende Dich bitte an:<br/>\\n        If you are primarily interested in purchasing data from mobile.de, please contact:\\n      </p>\\n      <p>\\n        Mail: Datenpartner@team.mobile.de\\n      </p>\\n    </div>\\n    <hr class=\"u-pad-top-9 u-pad-bottom-18\"/>\\n    <div id=\"footer\"></div>\\n    <script defer src=\"https://www.mobile.de/api/consent/static/js/loader.js\"></script>\\n  <script type=\"text/javascript\" src=\"https://www.mobile.de/youre-blocked/app.js\"></script><script type=\"text/javascript\"  src=\"/QA1s3u/GKD/6nD/Hq_sMA/k1iOkQXkG9/Clx4AQ/QX1UHG/5JbSE\"></script></body>\\n</html>\\n'"
      ]
     },
     "execution_count": 85,
     "metadata": {},
     "output_type": "execute_result"
    }
   ],
   "source": [
    "html"
   ]
  },
  {
   "cell_type": "code",
   "execution_count": 77,
   "metadata": {},
   "outputs": [
    {
     "ename": "TypeError",
     "evalue": "open() got an unexpected keyword argument 'header'",
     "output_type": "error",
     "traceback": [
      "\u001b[0;31m---------------------------------------------------------------------------\u001b[0m",
      "\u001b[0;31mTypeError\u001b[0m                                 Traceback (most recent call last)",
      "\u001b[0;32m/var/folders/1b/s48rqkvx629f6y2y4pgx5t600000gn/T/ipykernel_85410/3742977226.py\u001b[0m in \u001b[0;36m<module>\u001b[0;34m\u001b[0m\n\u001b[1;32m      2\u001b[0m \u001b[0mcj\u001b[0m \u001b[0;34m=\u001b[0m \u001b[0mhttp\u001b[0m\u001b[0;34m.\u001b[0m\u001b[0mcookiejar\u001b[0m\u001b[0;34m.\u001b[0m\u001b[0mCookieJar\u001b[0m\u001b[0;34m(\u001b[0m\u001b[0;34m)\u001b[0m\u001b[0;34m\u001b[0m\u001b[0;34m\u001b[0m\u001b[0m\n\u001b[1;32m      3\u001b[0m \u001b[0mopener\u001b[0m \u001b[0;34m=\u001b[0m \u001b[0murllib\u001b[0m\u001b[0;34m.\u001b[0m\u001b[0mrequest\u001b[0m\u001b[0;34m.\u001b[0m\u001b[0mbuild_opener\u001b[0m\u001b[0;34m(\u001b[0m\u001b[0murllib\u001b[0m\u001b[0;34m.\u001b[0m\u001b[0mrequest\u001b[0m\u001b[0;34m.\u001b[0m\u001b[0mHTTPCookieProcessor\u001b[0m\u001b[0;34m(\u001b[0m\u001b[0mcj\u001b[0m\u001b[0;34m)\u001b[0m\u001b[0;34m)\u001b[0m\u001b[0;34m\u001b[0m\u001b[0;34m\u001b[0m\u001b[0m\n\u001b[0;32m----> 4\u001b[0;31m \u001b[0mr\u001b[0m \u001b[0;34m=\u001b[0m \u001b[0mopener\u001b[0m\u001b[0;34m.\u001b[0m\u001b[0mopen\u001b[0m\u001b[0;34m(\u001b[0m\u001b[0murl\u001b[0m\u001b[0;34m,\u001b[0m \u001b[0mheader\u001b[0m\u001b[0;34m=\u001b[0m\u001b[0mhdr\u001b[0m\u001b[0;34m)\u001b[0m\u001b[0;34m\u001b[0m\u001b[0;34m\u001b[0m\u001b[0m\n\u001b[0m",
      "\u001b[0;31mTypeError\u001b[0m: open() got an unexpected keyword argument 'header'"
     ]
    }
   ],
   "source": [
    "import http.cookiejar, urllib.request\n",
    "cj = http.cookiejar.CookieJar()\n",
    "opener = urllib.request.build_opener(urllib.request.HTTPCookieProcessor(cj))\n",
    "r = opener.open(url, header=hdr)"
   ]
  },
  {
   "cell_type": "code",
   "execution_count": 91,
   "metadata": {},
   "outputs": [
    {
     "name": "stdout",
     "output_type": "stream",
     "text": [
      "<html>\n",
      "<body>\n",
      "<h1>Zugriff verweigert / Access denied</h1>\n",
      "<pre>\n",
      "\n",
      "Reference Error: 0.672f1102.1649238157.3d406ba\n",
      "\n",
      "Leider koennen wir Ihnen an dieser Stelle keinen Zugriff auf unsere Daten gewaehren.\n",
      "Sollten Sie weiterhin Interesse an einem Bezug unserer Daten haben, wenden sie sich bitte an:\n",
      "\n",
      "Unfortunately, automated access to this page was denied.\n",
      "If you are interested in accessing our data, please contact:\n",
      "\n",
      "Phone (Montag bis Freitag von 8:00 bis 18:00 Uhr):\n",
      " *Private Nutzer und gewerbliche Anbieter: +49 (0) 30 81097-601\n",
      " *Händler: +49 (0) 30 81097-500\n",
      "\n",
      "Mail: service@team.mobile.de\n",
      "\n",
      "mobile.de GmbH\n",
      "Albert-Einstein-Ring 26 | 14532 Kleinmachnow | Germany\n",
      "\n",
      "Geschaeftsfuehrer: Patricia Lobinger\n",
      "HRB‑Nr.: 18517 P, Amtsgericht Potsdam\n",
      "Sitz der Gesellschaft: Kleinmachnow\n",
      "\n",
      "\n",
      "\n",
      "</pre>\n",
      "</body>\n",
      "</html>\n",
      "\n"
     ]
    }
   ],
   "source": [
    "import requests\n",
    "from bs4 import BeautifulSoup\n",
    "\n",
    "r = requests.get(\"https://www.mobile.de/?lang=en\",)\n",
    "bs = BeautifulSoup(r.content, 'lxml')\n",
    "print(bs)"
   ]
  }
 ],
 "metadata": {
  "kernelspec": {
   "display_name": "Python 3 (ipykernel)",
   "language": "python",
   "name": "python3"
  },
  "language_info": {
   "codemirror_mode": {
    "name": "ipython",
    "version": 3
   },
   "file_extension": ".py",
   "mimetype": "text/x-python",
   "name": "python",
   "nbconvert_exporter": "python",
   "pygments_lexer": "ipython3",
   "version": "3.9.7"
  }
 },
 "nbformat": 4,
 "nbformat_minor": 4
}
