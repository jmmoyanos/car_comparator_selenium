{
 "cells": [
  {
   "cell_type": "code",
   "execution_count": null,
   "metadata": {},
   "outputs": [],
   "source": [
    "os.environ[\"NOTION_API_KEY\"] = \"secret_ykCuAA7S3BWsmQx7ueDXFcN68K8tVW6uBebjWmC8mAt\"\n",
    "page_url= \"https://www.notion.so/jmmoyano/050ad6eb764f4ebb901c306130732ce4?v=b44d2356140c4eb89b92cfba6cc113a0\""
   ]
  },
  {
   "cell_type": "code",
   "execution_count": 5,
   "metadata": {},
   "outputs": [],
   "source": [
    "import notion_df\n",
    "import pandas as pd\n",
    "import os\n",
    "\n",
    "os.environ[\"NOTION_API_KEY\"] = \"secret_ykCuAA7S3BWsmQx7ueDXFcN68K8tVW6uBebjWmC8mAt\"\n",
    "page_url= \"https://www.notion.so/jmmoyano/050ad6eb764f4ebb901c306130732ce4?v=b44d2356140c4eb89b92cfba6cc113a0\"\n",
    "\n",
    "notion_df.pandas() #That's it!\n",
    "\n",
    "df = pd.read_notion(page_url, api_key=\"secret_ykCuAA7S3BWsmQx7ueDXFcN68K8tVW6uBebjWmC8mAt\").drop_duplicates().loc[1:]\n"
   ]
  },
  {
   "cell_type": "code",
   "execution_count": 6,
   "metadata": {},
   "outputs": [
    {
     "data": {
      "text/html": [
       "<div>\n",
       "<style scoped>\n",
       "    .dataframe tbody tr th:only-of-type {\n",
       "        vertical-align: middle;\n",
       "    }\n",
       "\n",
       "    .dataframe tbody tr th {\n",
       "        vertical-align: top;\n",
       "    }\n",
       "\n",
       "    .dataframe thead th {\n",
       "        text-align: right;\n",
       "    }\n",
       "</style>\n",
       "<table border=\"1\" class=\"dataframe\">\n",
       "  <thead>\n",
       "    <tr style=\"text-align: right;\">\n",
       "      <th></th>\n",
       "      <th>year_min</th>\n",
       "      <th>url_de</th>\n",
       "      <th>url_spain</th>\n",
       "      <th>price</th>\n",
       "      <th>max_km</th>\n",
       "      <th>Name</th>\n",
       "    </tr>\n",
       "  </thead>\n",
       "  <tbody>\n",
       "    <tr>\n",
       "      <th>1</th>\n",
       "      <td>2015</td>\n",
       "      <td>https://suchen.mobile.de/fahrzeuge/search.html...</td>\n",
       "      <td>None</td>\n",
       "      <td>10000,20000</td>\n",
       "      <td>125000</td>\n",
       "      <td>Volvo v60</td>\n",
       "    </tr>\n",
       "    <tr>\n",
       "      <th>2</th>\n",
       "      <td>2015</td>\n",
       "      <td>https://suchen.mobile.de/fahrzeuge/search.html...</td>\n",
       "      <td>None</td>\n",
       "      <td>10000,20000</td>\n",
       "      <td>125000</td>\n",
       "      <td>volkswagen tiguan</td>\n",
       "    </tr>\n",
       "    <tr>\n",
       "      <th>3</th>\n",
       "      <td>2015</td>\n",
       "      <td>https://suchen.mobile.de/fahrzeuge/search.html...</td>\n",
       "      <td>None</td>\n",
       "      <td>10000,20000</td>\n",
       "      <td>125000</td>\n",
       "      <td>Mercedes GLA</td>\n",
       "    </tr>\n",
       "    <tr>\n",
       "      <th>4</th>\n",
       "      <td>2015</td>\n",
       "      <td>None</td>\n",
       "      <td>None</td>\n",
       "      <td>10000,20000</td>\n",
       "      <td>125000</td>\n",
       "      <td>Audi A3</td>\n",
       "    </tr>\n",
       "    <tr>\n",
       "      <th>5</th>\n",
       "      <td>2015</td>\n",
       "      <td>None</td>\n",
       "      <td>None</td>\n",
       "      <td>10000,20000</td>\n",
       "      <td>125000</td>\n",
       "      <td>Volkswagen Golf</td>\n",
       "    </tr>\n",
       "  </tbody>\n",
       "</table>\n",
       "</div>"
      ],
      "text/plain": [
       "  year_min                                             url_de url_spain  \\\n",
       "1     2015  https://suchen.mobile.de/fahrzeuge/search.html...      None   \n",
       "2     2015  https://suchen.mobile.de/fahrzeuge/search.html...      None   \n",
       "3     2015  https://suchen.mobile.de/fahrzeuge/search.html...      None   \n",
       "4     2015                                               None      None   \n",
       "5     2015                                               None      None   \n",
       "\n",
       "         price  max_km               Name  \n",
       "1  10000,20000  125000          Volvo v60  \n",
       "2  10000,20000  125000  volkswagen tiguan  \n",
       "3  10000,20000  125000      Mercedes GLA   \n",
       "4  10000,20000  125000            Audi A3  \n",
       "5  10000,20000  125000   Volkswagen Golf   "
      ]
     },
     "execution_count": 6,
     "metadata": {},
     "output_type": "execute_result"
    }
   ],
   "source": [
    "df.head()"
   ]
  },
  {
   "cell_type": "code",
   "execution_count": null,
   "metadata": {},
   "outputs": [],
   "source": [
    "df['Brand'] = df['Name'].apply(lambda x: x.split(' ')[0])\n",
    "df['Brand'].value_counts()"
   ]
  },
  {
   "cell_type": "code",
   "execution_count": null,
   "metadata": {},
   "outputs": [
    {
     "name": "stdout",
     "output_type": "stream",
     "text": [
      "Collecting notion-df\n",
      "  Downloading notion_df-0.0.5-py3-none-any.whl (19 kB)\n",
      "Collecting notion-client>=0.8.0\n",
      "  Downloading notion_client-0.9.0-py2.py3-none-any.whl (14 kB)\n",
      "Requirement already satisfied: pandas in /Users/josemariamoyano/miniforge3/envs/selenium/lib/python3.8/site-packages (from notion-df) (1.4.2)\n",
      "Collecting pydantic~=1.9.0\n",
      "  Downloading pydantic-1.9.0-cp38-cp38-macosx_11_0_arm64.whl (2.4 MB)\n",
      "\u001b[2K     \u001b[90m━━━━━━━━━━━━━━━━━━━━━━━━━━━━━━━━━━━━━━━━\u001b[0m \u001b[32m2.4/2.4 MB\u001b[0m \u001b[31m15.8 MB/s\u001b[0m eta \u001b[36m0:00:00\u001b[0ma \u001b[36m0:00:01\u001b[0m\n",
      "\u001b[?25hCollecting dataclasses\n",
      "  Downloading dataclasses-0.6-py3-none-any.whl (14 kB)\n",
      "Collecting httpx>=0.15.0\n",
      "  Downloading httpx-0.22.0-py3-none-any.whl (84 kB)\n",
      "\u001b[2K     \u001b[90m━━━━━━━━━━━━━━━━━━━━━━━━━━━━━━━━━━━━━━━━\u001b[0m \u001b[32m84.2/84.2 KB\u001b[0m \u001b[31m3.1 MB/s\u001b[0m eta \u001b[36m0:00:00\u001b[0m\n",
      "\u001b[?25hCollecting typing-extensions>=3.7.4.3\n",
      "  Using cached typing_extensions-4.1.1-py3-none-any.whl (26 kB)\n",
      "Requirement already satisfied: python-dateutil>=2.8.1 in /Users/josemariamoyano/miniforge3/envs/selenium/lib/python3.8/site-packages (from pandas->notion-df) (2.8.2)\n",
      "Requirement already satisfied: numpy>=1.20.0 in /Users/josemariamoyano/miniforge3/envs/selenium/lib/python3.8/site-packages (from pandas->notion-df) (1.22.3)\n",
      "Requirement already satisfied: pytz>=2020.1 in /Users/josemariamoyano/miniforge3/envs/selenium/lib/python3.8/site-packages (from pandas->notion-df) (2022.1)\n",
      "Requirement already satisfied: charset-normalizer in /Users/josemariamoyano/miniforge3/envs/selenium/lib/python3.8/site-packages (from httpx>=0.15.0->notion-client>=0.8.0->notion-df) (2.0.12)\n",
      "Requirement already satisfied: sniffio in /Users/josemariamoyano/miniforge3/envs/selenium/lib/python3.8/site-packages (from httpx>=0.15.0->notion-client>=0.8.0->notion-df) (1.2.0)\n",
      "Collecting rfc3986[idna2008]<2,>=1.3\n",
      "  Using cached rfc3986-1.5.0-py2.py3-none-any.whl (31 kB)\n",
      "Requirement already satisfied: certifi in /Users/josemariamoyano/miniforge3/envs/selenium/lib/python3.8/site-packages (from httpx>=0.15.0->notion-client>=0.8.0->notion-df) (2021.10.8)\n",
      "Collecting httpcore<0.15.0,>=0.14.5\n",
      "  Downloading httpcore-0.14.7-py3-none-any.whl (68 kB)\n",
      "\u001b[2K     \u001b[90m━━━━━━━━━━━━━━━━━━━━━━━━━━━━━━━━━━━━━━━━\u001b[0m \u001b[32m68.3/68.3 KB\u001b[0m \u001b[31m2.8 MB/s\u001b[0m eta \u001b[36m0:00:00\u001b[0m\n",
      "\u001b[?25hRequirement already satisfied: six>=1.5 in /Users/josemariamoyano/miniforge3/envs/selenium/lib/python3.8/site-packages (from python-dateutil>=2.8.1->pandas->notion-df) (1.16.0)\n",
      "Collecting h11<0.13,>=0.11\n",
      "  Downloading h11-0.12.0-py3-none-any.whl (54 kB)\n",
      "\u001b[2K     \u001b[90m━━━━━━━━━━━━━━━━━━━━━━━━━━━━━━━━━━━━━━━━\u001b[0m \u001b[32m54.9/54.9 KB\u001b[0m \u001b[31m1.9 MB/s\u001b[0m eta \u001b[36m0:00:00\u001b[0m\n",
      "\u001b[?25hRequirement already satisfied: anyio==3.* in /Users/josemariamoyano/miniforge3/envs/selenium/lib/python3.8/site-packages (from httpcore<0.15.0,>=0.14.5->httpx>=0.15.0->notion-client>=0.8.0->notion-df) (3.5.0)\n",
      "Requirement already satisfied: idna>=2.8 in /Users/josemariamoyano/miniforge3/envs/selenium/lib/python3.8/site-packages (from anyio==3.*->httpcore<0.15.0,>=0.14.5->httpx>=0.15.0->notion-client>=0.8.0->notion-df) (3.3)\n",
      "Installing collected packages: rfc3986, dataclasses, typing-extensions, h11, pydantic, httpcore, httpx, notion-client, notion-df\n",
      "  Attempting uninstall: h11\n",
      "    Found existing installation: h11 0.13.0\n",
      "    Uninstalling h11-0.13.0:\n",
      "      Successfully uninstalled h11-0.13.0\n",
      "Successfully installed dataclasses-0.6 h11-0.12.0 httpcore-0.14.7 httpx-0.22.0 notion-client-0.9.0 notion-df-0.0.5 pydantic-1.9.0 rfc3986-1.5.0 typing-extensions-4.1.1\n",
      "Note: you may need to restart the kernel to use updated packages.\n"
     ]
    }
   ],
   "source": []
  }
 ],
 "metadata": {
  "kernelspec": {
   "display_name": "Python 3 (ipykernel)",
   "language": "python",
   "name": "python3"
  },
  "language_info": {
   "codemirror_mode": {
    "name": "ipython",
    "version": 3
   },
   "file_extension": ".py",
   "mimetype": "text/x-python",
   "name": "python",
   "nbconvert_exporter": "python",
   "pygments_lexer": "ipython3",
   "version": "3.8.13"
  }
 },
 "nbformat": 4,
 "nbformat_minor": 4
}
