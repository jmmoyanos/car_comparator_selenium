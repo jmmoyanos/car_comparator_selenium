{
 "cells": [
  {
   "cell_type": "code",
   "execution_count": null,
   "metadata": {},
   "outputs": [],
   "source": [
    "os.environ[\"NOTION_API_KEY\"] = \"secret_ykCuAA7S3BWsmQx7ueDXFcN68K8tVW6uBebjWmC8mAt\"\n",
    "page_url= \"https://www.notion.so/jmmoyano/050ad6eb764f4ebb901c306130732ce4?v=b44d2356140c4eb89b92cfba6cc113a0\""
   ]
  },
  {
   "cell_type": "code",
   "execution_count": null,
   "metadata": {},
   "outputs": [],
   "source": [
    "import notion_df\n",
    "notion_df.pandas() #That's it!\n",
    "\n",
    "import pandas as pd\n",
    "df = pd.read_notion(page_url, api_key=\"secret_ykCuAA7S3BWsmQx7ueDXFcN68K8tVW6uBebjWmC8mAt\").drop_duplicates().loc[1:]\n"
   ]
  },
  {
   "cell_type": "code",
   "execution_count": null,
   "metadata": {},
   "outputs": [],
   "source": [
    "df.head()"
   ]
  },
  {
   "cell_type": "code",
   "execution_count": null,
   "metadata": {},
   "outputs": [],
   "source": [
    "df['Brand'] = df['Name'].apply(lambda x: x.split(' ')[0])\n",
    "df['Brand'].value_counts()"
   ]
  },
  {
   "cell_type": "code",
   "execution_count": null,
   "metadata": {},
   "outputs": [],
   "source": []
  }
 ],
 "metadata": {
  "kernelspec": {
   "display_name": "Python 3 (ipykernel)",
   "language": "python",
   "name": "python3"
  },
  "language_info": {
   "codemirror_mode": {
    "name": "ipython",
    "version": 3
   },
   "file_extension": ".py",
   "mimetype": "text/x-python",
   "name": "python",
   "nbconvert_exporter": "python",
   "pygments_lexer": "ipython3",
   "version": "3.9.7"
  }
 },
 "nbformat": 4,
 "nbformat_minor": 2
}
